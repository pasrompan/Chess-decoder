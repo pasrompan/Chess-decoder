{
 "cells": [
  {
   "cell_type": "code",
   "execution_count": null,
   "metadata": {},
   "outputs": [],
   "source": [
    "import openai\n",
    "\n",
    "# Function to encode the image file in base64\n",
    "def encode_image(image_path):\n",
    "    with open(image_path, \"rb\") as image_file:\n",
    "        return base64.b64encode(image_file.read()).decode('utf-8')\n",
    "\n",
    "# Your OpenAI API key\n",
    "openai.api_key = ''\n",
    "\n",
    "# Path to your image file\n",
    "image_path = 'Files/cell1.png'\n",
    "\n",
    "# Encode the image file\n",
    "encoded_image = encode_image(image_path)\n",
    "\n",
    "# Use the OpenAI API to interpret the image\n",
    "response = openai.Image.create(\n",
    "    file=encoded_image,\n",
    "    # This is a hypothetical parameter, assuming the API has a function for image interpretation\n",
    "    purpose='interpretation'\n",
    ")\n",
    "\n",
    "# Extract the interpretation from the response\n",
    "interpretation = response['data']['interpretation']\n",
    "\n",
    "print(interpretation)"
   ]
  }
 ],
 "metadata": {
  "language_info": {
   "name": "python"
  }
 },
 "nbformat": 4,
 "nbformat_minor": 2
}
